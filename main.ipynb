{
 "cells": [
  {
   "cell_type": "markdown",
   "metadata": {},
   "source": [
    "# プログラミング勉強会\n",
    "## 2022/11/18"
   ]
  },
  {
   "cell_type": "markdown",
   "metadata": {},
   "source": [
    "pythonに触ったことのない、基礎文法がわからない人にはこれがおすすめです\n",
    "\n",
    "[![youtube](https://img.youtube.com/vi/HyU3XL2F9GE/0.jpg)](https://www.youtube.com/watch?v=HyU3XL2F9GE)"
   ]
  },
  {
   "cell_type": "markdown",
   "metadata": {},
   "source": [
    "---"
   ]
  },
  {
   "cell_type": "markdown",
   "metadata": {},
   "source": [
    "# テーマ: スクレイピングに触れてみよう"
   ]
  },
  {
   "cell_type": "markdown",
   "metadata": {},
   "source": [
    "# 1. そもそもスクレイピングってなに？\n",
    "\n",
    "[参考: スクレイピングとは何かやさしく解説](https://www.sbbit.jp/article/cont1/71102)\n",
    "\n",
    "簡単にいうと, **Webサイトからデータを取得すること** です.\n",
    "\n",
    "データサイエンスの分野で言うところの **データ収集** です.\n",
    "\n",
    "機械学習とか深層学習で大量のデータが必要だったりするときに便利な印象\n"
   ]
  },
  {
   "cell_type": "markdown",
   "metadata": {},
   "source": [
    "## スクレイピングの注意点\n",
    "データを取得する際には, **Webサイトの利用規約** を確認する必要があります.\n",
    "\n",
    "また、負荷をかけすぎると犯罪につながるので気をつけましょう\n",
    "\n",
    "[スクレイピング、クローリングする時の注意点](https://docs.pyq.jp/column/crawler.html)\n",
    "\n",
    "↑**必読**↑"
   ]
  },
  {
   "cell_type": "markdown",
   "metadata": {},
   "source": [
    "---"
   ]
  },
  {
   "cell_type": "markdown",
   "metadata": {},
   "source": [
    "# 2. スクレイピングの流れ(BeautifulSoup使用)\n",
    "\n",
    "1. データを取得したいWebサイトを見つける\n",
    "2. HTTPリクエストを投げてWebサイトのHTMLを取得する\n",
    "3. `soup`オブジェクトを作成する\n",
    "4. `soup`オブジェクトからデータを取得する\n",
    "5. 必要に応じてデータを整形する"
   ]
  },
  {
   "cell_type": "markdown",
   "metadata": {},
   "source": [
    "---"
   ]
  },
  {
   "cell_type": "markdown",
   "metadata": {},
   "source": [
    "# 3. 実際にやってみる"
   ]
  },
  {
   "cell_type": "markdown",
   "metadata": {},
   "source": [
    "今回の目標はPythonに関するブログの記事を取得すること\n",
    "\n",
    "https://zenn.dev/topics/python"
   ]
  },
  {
   "cell_type": "markdown",
   "metadata": {},
   "source": [
    "## 3.0. 必要なライブラリのインストール\n",
    "\n",
    "- `requests`: HTTPリクエストを投げるためのライブラリ\n",
    "- `BeautifulSoup`: HTMLを解析するためのライブラリ\n",
    "- `time`: 時間を制御するためのライブラリ, 今回はスクレイピングの間隔を調整するために使用\n",
    "- `pandas`: データを整形するためのライブラリ"
   ]
  },
  {
   "cell_type": "markdown",
   "metadata": {},
   "source": [
    "```python\n",
    "import requests\n",
    "import pandas as pd\n",
    "import time\n",
    "from bs4 import BeautifulSoup\n",
    "```"
   ]
  },
  {
   "cell_type": "code",
   "execution_count": 31,
   "metadata": {},
   "outputs": [],
   "source": [
    "# ↑を写経"
   ]
  },
  {
   "cell_type": "markdown",
   "metadata": {},
   "source": [
    "# 3.1. データを取得したいWebサイトを見つける"
   ]
  },
  {
   "cell_type": "code",
   "execution_count": 32,
   "metadata": {},
   "outputs": [],
   "source": [
    "url = 'https://zenn.dev/topics/python'"
   ]
  },
  {
   "cell_type": "markdown",
   "metadata": {},
   "source": [
    "https://zenn.dev/robots.txt\n",
    "\n",
    "↑を確認"
   ]
  },
  {
   "cell_type": "markdown",
   "metadata": {},
   "source": [
    "# 3.2. HTTPリクエストを投げてWebサイトのHTMLを取得する"
   ]
  },
  {
   "cell_type": "markdown",
   "metadata": {},
   "source": [
    "```python\n",
    "# 連続でアクセスするとエラーになるので、1秒待機させる\n",
    "time.sleep(1)\n",
    "# HTTPリクエストを投げてWebサイトのHTMLを取得する\n",
    "res = requests.get(url)\n",
    "print(res.text)\n",
    "```"
   ]
  },
  {
   "cell_type": "code",
   "execution_count": 33,
   "metadata": {},
   "outputs": [],
   "source": [
    "#  ↑を写経（コメントは不要）"
   ]
  },
  {
   "cell_type": "markdown",
   "metadata": {},
   "source": [
    "# 3.3. `soup`オブジェクトを作成する\n",
    "\n",
    "```python\n",
    "# HTMLを解析するためのsoupオブジェクトを作成する\n",
    "soup = BeautifulSoup(res.text, 'html.parser')\n",
    "print(soup.prettify())\n",
    "```"
   ]
  },
  {
   "cell_type": "code",
   "execution_count": 34,
   "metadata": {},
   "outputs": [],
   "source": [
    "# ↑を写経（コメントは不要）"
   ]
  },
  {
   "cell_type": "markdown",
   "metadata": {},
   "source": [
    "# 3.4. `soup`オブジェクトからデータを取得する\n",
    "\n",
    "### 参考資料\n",
    "- [最低限覚えておきたいCSSのセレクタ](https://morizyun.github.io/web/css-selector.html)\n",
    "- [図解！Python BeautifulSoupの使い方を徹底解説！](https://ai-inter1.com/beautifulsoup_1/)\n"
   ]
  },
  {
   "cell_type": "markdown",
   "metadata": {},
   "source": [
    "```python\n",
    "# cssセレクタを使ってデータを取得する\n",
    "# class名がAriticleList__contentから始まる要素を取得する\n",
    "article_list = soup.select('[class^=ArticleList_content]')\n",
    "\n",
    "# 記事の情報を取得する関数\n",
    "def get_article_info(article):\n",
    "    # h2タグの中のテキストを取得\n",
    "    title = article.select_one(\"h2\").text\n",
    "    # class名がArticleList_userNameから始まる要素の中のテキストを取得\n",
    "    author_name = article.select_one(\"[class^=ArticleList_userName]\").text\n",
    "    # class名がArticleList_linkから始まる要素の中のhref属性を取得\n",
    "    relative_link = article.select_one(\"[class^=ArticleList_link]\").get(\"href\")\n",
    "    # class名がArticleList_likeから始まる要素の中のテキストを取得\n",
    "    # ただし、いいねが0件の場合はNoneになるので、0に置き換える\n",
    "    like = (\n",
    "        article.select_one(\"[class^=ArticleList_like]\").text\n",
    "        if article.select_one(\"[class^=ArticleList_like]\")\n",
    "        else 0\n",
    "    )\n",
    "    # 辞書型で返す\n",
    "    return {\"タイトル\": title, \"著者\": author_name, \"リンク\": f'https://zenn.dev{relative_link}', \"いいね\": int(like)}\n",
    "\n",
    "article_info_list =  []\n",
    "# article_listはイテラブルなので、for文で回す\n",
    "for article in article_list:\n",
    "    article_info_list.append(get_article_info(article))\n",
    "\n",
    "print(article_info_list)\n",
    "```"
   ]
  },
  {
   "cell_type": "code",
   "execution_count": 35,
   "metadata": {},
   "outputs": [],
   "source": [
    "# ↑を写経（コメントは不要）"
   ]
  },
  {
   "cell_type": "markdown",
   "metadata": {},
   "source": [
    "# 3.5. 必要に応じてデータを整形する\n",
    "\n",
    "データ分析でもおなじみpandasを使います"
   ]
  },
  {
   "cell_type": "markdown",
   "metadata": {},
   "source": [
    "```python\n",
    "# 辞書型のリストをデータフレームに変換する\n",
    "df = pd.DataFrame(article_info_list)\n",
    "# いいね順にソートする\n",
    "df = df.sort_values(\"いいね\", ascending=False)\n",
    "# リンクをクリックできるようにする\n",
    "df.head(10).style.format({\"リンク\": lambda x: f'<a href=\"{x}\">{x}</a>'}) \n",
    "```"
   ]
  },
  {
   "cell_type": "code",
   "execution_count": 36,
   "metadata": {},
   "outputs": [],
   "source": [
    "# ↑を写経（コメントは不要）"
   ]
  },
  {
   "cell_type": "markdown",
   "metadata": {},
   "source": [
    "---"
   ]
  },
  {
   "cell_type": "code",
   "execution_count": 37,
   "metadata": {},
   "outputs": [
    {
     "data": {
      "text/html": [
       "<style type=\"text/css\">\n",
       "</style>\n",
       "<table id=\"T_40f46_\">\n",
       "  <thead>\n",
       "    <tr>\n",
       "      <th class=\"blank level0\" >&nbsp;</th>\n",
       "      <th class=\"col_heading level0 col0\" >タイトル</th>\n",
       "      <th class=\"col_heading level0 col1\" >著者</th>\n",
       "      <th class=\"col_heading level0 col2\" >リンク</th>\n",
       "      <th class=\"col_heading level0 col3\" >いいね</th>\n",
       "    </tr>\n",
       "  </thead>\n",
       "  <tbody>\n",
       "    <tr>\n",
       "      <th id=\"T_40f46_level0_row0\" class=\"row_heading level0 row0\" >39</th>\n",
       "      <td id=\"T_40f46_row0_col0\" class=\"data row0 col0\" >話題のStable Diffusionがオープンソース化されたのでローカルで動かしてみる</td>\n",
       "      <td id=\"T_40f46_row0_col1\" class=\"data row0 col1\" >koyoarai_</td>\n",
       "      <td id=\"T_40f46_row0_col2\" class=\"data row0 col2\" ><a href=\"https://zenn.dev/koyoarai_/articles/02f3ed864c6127bb2049\">https://zenn.dev/koyoarai_/articles/02f3ed864c6127bb2049</a></td>\n",
       "      <td id=\"T_40f46_row0_col3\" class=\"data row0 col3\" >339</td>\n",
       "    </tr>\n",
       "    <tr>\n",
       "      <th id=\"T_40f46_level0_row1\" class=\"row_heading level0 row1\" >44</th>\n",
       "      <td id=\"T_40f46_row1_col0\" class=\"data row1 col0\" >中級者へのModern Python</td>\n",
       "      <td id=\"T_40f46_row1_col1\" class=\"data row1 col1\" >ganyariya</td>\n",
       "      <td id=\"T_40f46_row1_col2\" class=\"data row1 col2\" ><a href=\"https://zenn.dev/ganariya/articles/intermediate-python\">https://zenn.dev/ganariya/articles/intermediate-python</a></td>\n",
       "      <td id=\"T_40f46_row1_col3\" class=\"data row1 col3\" >170</td>\n",
       "    </tr>\n",
       "    <tr>\n",
       "      <th id=\"T_40f46_level0_row2\" class=\"row_heading level0 row2\" >47</th>\n",
       "      <td id=\"T_40f46_row2_col0\" class=\"data row2 col0\" >テーブルデータ向けの自然言語特徴抽出術</td>\n",
       "      <td id=\"T_40f46_row2_col1\" class=\"data row2 col1\" >koukyo1994</td>\n",
       "      <td id=\"T_40f46_row2_col2\" class=\"data row2 col2\" ><a href=\"https://zenn.dev/koukyo1994/articles/9b1da2482d8ba1\">https://zenn.dev/koukyo1994/articles/9b1da2482d8ba1</a></td>\n",
       "      <td id=\"T_40f46_row2_col3\" class=\"data row2 col3\" >112</td>\n",
       "    </tr>\n",
       "    <tr>\n",
       "      <th id=\"T_40f46_level0_row3\" class=\"row_heading level0 row3\" >41</th>\n",
       "      <td id=\"T_40f46_row3_col0\" class=\"data row3 col0\" >実体のないマウスを作りました</td>\n",
       "      <td id=\"T_40f46_row3_col1\" class=\"data row3 col1\" >Yuki</td>\n",
       "      <td id=\"T_40f46_row3_col2\" class=\"data row3 col2\" ><a href=\"https://zenn.dev/ninzin/articles/94b05fdb9edf53\">https://zenn.dev/ninzin/articles/94b05fdb9edf53</a></td>\n",
       "      <td id=\"T_40f46_row3_col3\" class=\"data row3 col3\" >106</td>\n",
       "    </tr>\n",
       "    <tr>\n",
       "      <th id=\"T_40f46_level0_row4\" class=\"row_heading level0 row4\" >43</th>\n",
       "      <td id=\"T_40f46_row4_col0\" class=\"data row4 col0\" >【Python入門】ネコでも分かる「Pythonの基本」まとめ</td>\n",
       "      <td id=\"T_40f46_row4_col1\" class=\"data row4 col1\" >NekoAllergy</td>\n",
       "      <td id=\"T_40f46_row4_col2\" class=\"data row4 col2\" ><a href=\"https://zenn.dev/nekoallergy/articles/0adf4d57acf9b4\">https://zenn.dev/nekoallergy/articles/0adf4d57acf9b4</a></td>\n",
       "      <td id=\"T_40f46_row4_col3\" class=\"data row4 col3\" >97</td>\n",
       "    </tr>\n",
       "    <tr>\n",
       "      <th id=\"T_40f46_level0_row5\" class=\"row_heading level0 row5\" >45</th>\n",
       "      <td id=\"T_40f46_row5_col0\" class=\"data row5 col0\" >botterのためのasyncio</td>\n",
       "      <td id=\"T_40f46_row5_col1\" class=\"data row5 col1\" >まちゅけん</td>\n",
       "      <td id=\"T_40f46_row5_col2\" class=\"data row5 col2\" ><a href=\"https://zenn.dev/mtkn1/articles/c61e77c1d221aa\">https://zenn.dev/mtkn1/articles/c61e77c1d221aa</a></td>\n",
       "      <td id=\"T_40f46_row5_col3\" class=\"data row5 col3\" >96</td>\n",
       "    </tr>\n",
       "    <tr>\n",
       "      <th id=\"T_40f46_level0_row6\" class=\"row_heading level0 row6\" >40</th>\n",
       "      <td id=\"T_40f46_row6_col0\" class=\"data row6 col0\" >pathlibはいいぞ</td>\n",
       "      <td id=\"T_40f46_row6_col1\" class=\"data row6 col1\" >alivelimb</td>\n",
       "      <td id=\"T_40f46_row6_col2\" class=\"data row6 col2\" ><a href=\"https://zenn.dev/alivelimb/articles/0f3f8d61d91d57\">https://zenn.dev/alivelimb/articles/0f3f8d61d91d57</a></td>\n",
       "      <td id=\"T_40f46_row6_col3\" class=\"data row6 col3\" >77</td>\n",
       "    </tr>\n",
       "    <tr>\n",
       "      <th id=\"T_40f46_level0_row7\" class=\"row_heading level0 row7\" >46</th>\n",
       "      <td id=\"T_40f46_row7_col0\" class=\"data row7 col0\" >コーディングテストに必要なアルゴリズムを図でやさしく説明してみた！</td>\n",
       "      <td id=\"T_40f46_row7_col1\" class=\"data row7 col1\" >yutohub</td>\n",
       "      <td id=\"T_40f46_row7_col2\" class=\"data row7 col2\" ><a href=\"https://zenn.dev/yutohub/articles/b53c20a6e6a9bc\">https://zenn.dev/yutohub/articles/b53c20a6e6a9bc</a></td>\n",
       "      <td id=\"T_40f46_row7_col3\" class=\"data row7 col3\" >71</td>\n",
       "    </tr>\n",
       "    <tr>\n",
       "      <th id=\"T_40f46_level0_row8\" class=\"row_heading level0 row8\" >26</th>\n",
       "      <td id=\"T_40f46_row8_col0\" class=\"data row8 col0\" >matplotlibの備忘録</td>\n",
       "      <td id=\"T_40f46_row8_col1\" class=\"data row8 col1\" >canard0328</td>\n",
       "      <td id=\"T_40f46_row8_col2\" class=\"data row8 col2\" ><a href=\"https://zenn.dev/canard0328/articles/memorandum-of-matplotlib\">https://zenn.dev/canard0328/articles/memorandum-of-matplotlib</a></td>\n",
       "      <td id=\"T_40f46_row8_col3\" class=\"data row8 col3\" >32</td>\n",
       "    </tr>\n",
       "    <tr>\n",
       "      <th id=\"T_40f46_level0_row9\" class=\"row_heading level0 row9\" >0</th>\n",
       "      <td id=\"T_40f46_row9_col0\" class=\"data row9 col0\" >続・MeCabの分かち書きを並列処理で高速化する</td>\n",
       "      <td id=\"T_40f46_row9_col1\" class=\"data row9 col1\" >hpp</td>\n",
       "      <td id=\"T_40f46_row9_col2\" class=\"data row9 col2\" ><a href=\"https://zenn.dev/hpp/articles/64466d9476fb2b\">https://zenn.dev/hpp/articles/64466d9476fb2b</a></td>\n",
       "      <td id=\"T_40f46_row9_col3\" class=\"data row9 col3\" >28</td>\n",
       "    </tr>\n",
       "  </tbody>\n",
       "</table>\n"
      ],
      "text/plain": [
       "<pandas.io.formats.style.Styler at 0x11e4544f0>"
      ]
     },
     "execution_count": 37,
     "metadata": {},
     "output_type": "execute_result"
    }
   ],
   "source": [
    "# ここまでのコード\n",
    "import requests\n",
    "import pandas as pd\n",
    "import time\n",
    "from bs4 import BeautifulSoup\n",
    "\n",
    "url = \"https://zenn.dev/topics/python\"\n",
    "# 連続でアクセスするとエラーになるので、1秒待機させる\n",
    "time.sleep(1)\n",
    "# HTTPリクエストを投げてWebサイトのHTMLを取得する\n",
    "res = requests.get(url)\n",
    "\n",
    "# HTMLを解析するためのsoupオブジェクトを作成する\n",
    "soup = BeautifulSoup(res.text, \"html.parser\")\n",
    "\n",
    "# cssセレクタを使ってデータを取得する\n",
    "# class名がAriticleList__contentから始まる要素を取得する\n",
    "article_list = soup.select(\"[class^=ArticleList_content]\")\n",
    "\n",
    "# 記事の情報を取得する関数\n",
    "def get_article_info(article):\n",
    "    # h2タグの中のテキストを取得\n",
    "    title = article.select_one(\"h2\").text\n",
    "    # class名がArticleList_userNameから始まる要素の中のテキストを取得\n",
    "    author_name = article.select_one(\"[class^=ArticleList_userName]\").text\n",
    "    # class名がArticleList_linkから始まる要素の中のhref属性を取得\n",
    "    relative_link = article.select_one(\"[class^=ArticleList_link]\").get(\"href\")\n",
    "    # class名がArticleList_likeから始まる要素の中のテキストを取得\n",
    "    # ただし、いいねが0件の場合はNoneになるので、0に置き換える\n",
    "    like = (\n",
    "        article.select_one(\"[class^=ArticleList_like]\").text\n",
    "        if article.select_one(\"[class^=ArticleList_like]\")\n",
    "        else 0\n",
    "    )\n",
    "    # 辞書型で返す\n",
    "    return {\n",
    "        \"タイトル\": title,\n",
    "        \"著者\": author_name,\n",
    "        \"リンク\": f\"https://zenn.dev{relative_link}\",\n",
    "        \"いいね\": int(like),\n",
    "    }\n",
    "\n",
    "\n",
    "article_info_list = []\n",
    "# article_listはイテラブルなので、for文で回す\n",
    "for article in article_list:\n",
    "    article_info_list.append(get_article_info(article))\n",
    "\n",
    "# 辞書型のリストをデータフレームに変換する\n",
    "df = pd.DataFrame(article_info_list)\n",
    "# いいね順にソートする\n",
    "df = df.sort_values(\"いいね\", ascending=False)\n",
    "df.head(10).style.format({\"リンク\": lambda x: f'<a href=\"{x}\">{x}</a>'})"
   ]
  },
  {
   "cell_type": "markdown",
   "metadata": {},
   "source": [
    "---"
   ]
  },
  {
   "cell_type": "markdown",
   "metadata": {},
   "source": [
    "# お疲れ様でした！\n",
    "ここまででひとまずスクレイピングの基本的な流れを理解できたと思います\n",
    "\n",
    "余力がある人は、以下の「関数化してページネーション対応」をみて自分で実装してみてください"
   ]
  },
  {
   "cell_type": "markdown",
   "metadata": {},
   "source": [
    "---"
   ]
  },
  {
   "cell_type": "markdown",
   "metadata": {},
   "source": [
    "## 関数化してページネーション対応"
   ]
  },
  {
   "cell_type": "markdown",
   "metadata": {},
   "source": [
    "処理を分けて関数化することにより、使い回しが効く。\n",
    "\n",
    "それだけでなくカプセル化としての役割もあることから、予期せぬエラーを防ぐことができる。\n",
    "\n",
    "また、全体を見たとき、処理の流れがわかりやすくなる。"
   ]
  },
  {
   "cell_type": "code",
   "execution_count": 38,
   "metadata": {},
   "outputs": [],
   "source": [
    "def get_soup(url: str) -> BeautifulSoup:\n",
    "    \"\"\"\n",
    "    urlからBeautifulSoupオブジェクトを取得する\n",
    "    \n",
    "    Parameters\n",
    "    ----------\n",
    "    url : str\n",
    "        \n",
    "    Returns\n",
    "    -------\n",
    "    soup : BeautifulSoup\n",
    "    \"\"\"\n",
    "    time.sleep(1)\n",
    "    res = requests.get(url)\n",
    "    soup = BeautifulSoup(res.text, 'html.parser')\n",
    "    return soup\n",
    "\n",
    "def get_articles(soup: BeautifulSoup) -> list:\n",
    "    \"\"\"\n",
    "    soupから記事の情報を取得する\n",
    "\n",
    "    Parameters\n",
    "    ----------\n",
    "    soup : BeautifulSoup\n",
    "\n",
    "    Returns\n",
    "    -------\n",
    "    article_list : list[BeautifulSoup]\n",
    "    \"\"\"\n",
    "    article_list = soup.select('[class^=ArticleList_content]')\n",
    "    return article_list\n",
    "\n",
    "def get_article_info(article: BeautifulSoup) -> dict:\n",
    "    \"\"\"\n",
    "    articleから記事の情報を取得する\n",
    "\n",
    "    Parameters\n",
    "    ----------\n",
    "    article : BeautifulSoup\n",
    "\n",
    "    Returns\n",
    "    -------\n",
    "    article_info : dict\n",
    "    \"\"\"\n",
    "    title = article.select_one(\"h2\").text\n",
    "    author_name = article.select_one(\"[class^=ArticleList_userName]\").text\n",
    "    relative_link = article.select_one(\"[class^=ArticleList_link]\").get(\"href\")\n",
    "    like = (\n",
    "        article.select_one(\"[class^=ArticleList_like]\").text\n",
    "        if article.select_one(\"[class^=ArticleList_like]\")\n",
    "        else 0\n",
    "    )\n",
    "    return {\"タイトル\": title, \"著者\": author_name, \"リンク\": f'https://zenn.dev{relative_link}', \"いいね\": int(like)}\n",
    "\n",
    "def get_article_info_df(url):\n",
    "    \"\"\"\n",
    "    urlから記事の情報を取得してデータフレームにする\n",
    "\n",
    "    Parameters\n",
    "    ----------\n",
    "    url : str\n",
    "\n",
    "    Returns\n",
    "    -------\n",
    "    df : pd.DataFrame\n",
    "    \"\"\"\n",
    "    soup = get_soup(url)\n",
    "    article_list = get_articles(soup)\n",
    "    article_info_list =  []\n",
    "    for article in article_list:\n",
    "        article_info_list.append(get_article_info(article))\n",
    "    df = pd.DataFrame(article_info_list)\n",
    "    return df"
   ]
  },
  {
   "cell_type": "markdown",
   "metadata": {},
   "source": [
    "# ここ大事ポイント\n",
    "```python\n",
    "def get_article_info_df(url):\n",
    "    # 1.soupオブジェクトを作成する\n",
    "    soup = get_soup(url)\n",
    "    # 2.記事の情報のsoupオブジェクトのリストを取得する\n",
    "    article_list = get_articles(soup)\n",
    "    # 3.soupのリストをfor文で回して、記事の情報を取得する\n",
    "    article_info_list =  []\n",
    "    for article in article_list:\n",
    "        article_info_list.append(get_article_info(article))\n",
    "    # 4.辞書型のリストをデータフレームに変換する\n",
    "    df = pd.DataFrame(article_info_list)\n",
    "    return df\n",
    "```\n",
    "関数化したおかげで、処理の流れがわかりやすくなる。\n",
    "\n",
    "beautifulsoupでのスクレイピングが4ステップにまとめられた。"
   ]
  },
  {
   "cell_type": "code",
   "execution_count": 39,
   "metadata": {},
   "outputs": [],
   "source": [
    "# ページ数を指定して、記事の情報を取得する\n",
    "def get_zenn_article_df_by_topic(max_page, topic=\"python\"):\n",
    "    # ページが変わるとURLが変わる(URLクエリパラメータという)\n",
    "    urls = [f\"https://zenn.dev/topics/{topic}?page={i}\" for i in range(1, max_page + 1)]\n",
    "\n",
    "    df_list = []\n",
    "    for url in urls:\n",
    "        try:\n",
    "            df = get_article_info_df(url)\n",
    "            df_list.append(df)\n",
    "            print(f\"success: {url}\")\n",
    "        except:\n",
    "            print(f\"error!: {url}の取得に失敗しました\")\n",
    "    df = pd.concat(df_list)\n",
    "    return df"
   ]
  },
  {
   "cell_type": "code",
   "execution_count": 40,
   "metadata": {},
   "outputs": [
    {
     "name": "stdout",
     "output_type": "stream",
     "text": [
      "success: https://zenn.dev/topics/python?page=1\n",
      "success: https://zenn.dev/topics/python?page=2\n",
      "success: https://zenn.dev/topics/python?page=3\n"
     ]
    }
   ],
   "source": [
    "# 3ページ分取ってきてもらう\n",
    "df = get_zenn_article_df_by_topic(max_page=3)"
   ]
  },
  {
   "cell_type": "code",
   "execution_count": 41,
   "metadata": {},
   "outputs": [
    {
     "name": "stdout",
     "output_type": "stream",
     "text": [
      "(144, 4)\n"
     ]
    },
    {
     "data": {
      "text/html": [
       "<div>\n",
       "<style scoped>\n",
       "    .dataframe tbody tr th:only-of-type {\n",
       "        vertical-align: middle;\n",
       "    }\n",
       "\n",
       "    .dataframe tbody tr th {\n",
       "        vertical-align: top;\n",
       "    }\n",
       "\n",
       "    .dataframe thead th {\n",
       "        text-align: right;\n",
       "    }\n",
       "</style>\n",
       "<table border=\"1\" class=\"dataframe\">\n",
       "  <thead>\n",
       "    <tr style=\"text-align: right;\">\n",
       "      <th></th>\n",
       "      <th>タイトル</th>\n",
       "      <th>著者</th>\n",
       "      <th>リンク</th>\n",
       "      <th>いいね</th>\n",
       "    </tr>\n",
       "  </thead>\n",
       "  <tbody>\n",
       "    <tr>\n",
       "      <th>43</th>\n",
       "      <td>線形代数と確率過程の話</td>\n",
       "      <td>ロボ太</td>\n",
       "      <td>https://zenn.dev/kaityo256/articles/markov_eig...</td>\n",
       "      <td>37</td>\n",
       "    </tr>\n",
       "    <tr>\n",
       "      <th>44</th>\n",
       "      <td>持ち家と賃貸の金銭面の比較 with Python in 23区</td>\n",
       "      <td>xiongjie</td>\n",
       "      <td>https://zenn.dev/xiongjie/articles/09eddca747fe05</td>\n",
       "      <td>34</td>\n",
       "    </tr>\n",
       "    <tr>\n",
       "      <th>45</th>\n",
       "      <td>この素晴らしいJuliaにDeep Learningを！</td>\n",
       "      <td>skypenguins</td>\n",
       "      <td>https://zenn.dev/skypenguins/articles/b44bff12...</td>\n",
       "      <td>42</td>\n",
       "    </tr>\n",
       "    <tr>\n",
       "      <th>46</th>\n",
       "      <td>その日のコミット数に応じて増える Docker キャラクターのコンテナ</td>\n",
       "      <td>ogty</td>\n",
       "      <td>https://zenn.dev/ogty/articles/2eed4d7a-d1de-4...</td>\n",
       "      <td>21</td>\n",
       "    </tr>\n",
       "    <tr>\n",
       "      <th>47</th>\n",
       "      <td>機械学習の高速化テクニック3選</td>\n",
       "      <td>yagiyuki</td>\n",
       "      <td>https://zenn.dev/yagiyuki/articles/accelerate_ml</td>\n",
       "      <td>23</td>\n",
       "    </tr>\n",
       "  </tbody>\n",
       "</table>\n",
       "</div>"
      ],
      "text/plain": [
       "                                   タイトル           著者  \\\n",
       "43                          線形代数と確率過程の話          ロボ太   \n",
       "44     持ち家と賃貸の金銭面の比較 with Python in 23区     xiongjie   \n",
       "45         この素晴らしいJuliaにDeep Learningを！  skypenguins   \n",
       "46  その日のコミット数に応じて増える Docker キャラクターのコンテナ         ogty   \n",
       "47                      機械学習の高速化テクニック3選     yagiyuki   \n",
       "\n",
       "                                                  リンク  いいね  \n",
       "43  https://zenn.dev/kaityo256/articles/markov_eig...   37  \n",
       "44  https://zenn.dev/xiongjie/articles/09eddca747fe05   34  \n",
       "45  https://zenn.dev/skypenguins/articles/b44bff12...   42  \n",
       "46  https://zenn.dev/ogty/articles/2eed4d7a-d1de-4...   21  \n",
       "47   https://zenn.dev/yagiyuki/articles/accelerate_ml   23  "
      ]
     },
     "execution_count": 41,
     "metadata": {},
     "output_type": "execute_result"
    }
   ],
   "source": [
    "print(df.shape)\n",
    "df.tail()"
   ]
  },
  {
   "cell_type": "code",
   "execution_count": 42,
   "metadata": {},
   "outputs": [
    {
     "name": "stdout",
     "output_type": "stream",
     "text": [
      "success: https://zenn.dev/topics/データサイエンス?page=1\n",
      "success: https://zenn.dev/topics/データサイエンス?page=2\n",
      "success: https://zenn.dev/topics/データサイエンス?page=3\n"
     ]
    },
    {
     "data": {
      "text/html": [
       "<div>\n",
       "<style scoped>\n",
       "    .dataframe tbody tr th:only-of-type {\n",
       "        vertical-align: middle;\n",
       "    }\n",
       "\n",
       "    .dataframe tbody tr th {\n",
       "        vertical-align: top;\n",
       "    }\n",
       "\n",
       "    .dataframe thead th {\n",
       "        text-align: right;\n",
       "    }\n",
       "</style>\n",
       "<table border=\"1\" class=\"dataframe\">\n",
       "  <thead>\n",
       "    <tr style=\"text-align: right;\">\n",
       "      <th></th>\n",
       "      <th>タイトル</th>\n",
       "      <th>著者</th>\n",
       "      <th>リンク</th>\n",
       "      <th>いいね</th>\n",
       "    </tr>\n",
       "  </thead>\n",
       "  <tbody>\n",
       "    <tr>\n",
       "      <th>0</th>\n",
       "      <td>統計検定準1級に受かるための勉強法・参考サイト</td>\n",
       "      <td>でるぶ</td>\n",
       "      <td>https://zenn.dev/dlbsabu/articles/5300da50921070</td>\n",
       "      <td>85</td>\n",
       "    </tr>\n",
       "    <tr>\n",
       "      <th>1</th>\n",
       "      <td>【資格】統計初心者が統計検定２級・準１級を合計２か月で合格した話</td>\n",
       "      <td>yanagikk</td>\n",
       "      <td>https://zenn.dev/yanagikk/articles/a32a575a9163e2</td>\n",
       "      <td>57</td>\n",
       "    </tr>\n",
       "    <tr>\n",
       "      <th>2</th>\n",
       "      <td>Kaggleで金融コンペを開催するための(僕が知っている)すべて</td>\n",
       "      <td>tomo@Alpaca</td>\n",
       "      <td>https://zenn.dev/gamella/articles/eaf7fe5a96bdf0</td>\n",
       "      <td>56</td>\n",
       "    </tr>\n",
       "    <tr>\n",
       "      <th>3</th>\n",
       "      <td>「プログラミング未経験者がWeb/ITエンジニアに転職するためには何をしたらいいのか？」を統...</td>\n",
       "      <td>堀口セイト</td>\n",
       "      <td>https://zenn.dev/seito/articles/8f5ce6bee847c2</td>\n",
       "      <td>32</td>\n",
       "    </tr>\n",
       "    <tr>\n",
       "      <th>4</th>\n",
       "      <td>PythonによるDomain Adaptation Learnerの実装</td>\n",
       "      <td>Shingo Uto</td>\n",
       "      <td>https://zenn.dev/s1ok69oo/articles/a319078f8c6af1</td>\n",
       "      <td>21</td>\n",
       "    </tr>\n",
       "  </tbody>\n",
       "</table>\n",
       "</div>"
      ],
      "text/plain": [
       "                                                タイトル           著者  \\\n",
       "0                            統計検定準1級に受かるための勉強法・参考サイト          でるぶ   \n",
       "1                   【資格】統計初心者が統計検定２級・準１級を合計２か月で合格した話     yanagikk   \n",
       "2                   Kaggleで金融コンペを開催するための(僕が知っている)すべて  tomo@Alpaca   \n",
       "3  「プログラミング未経験者がWeb/ITエンジニアに転職するためには何をしたらいいのか？」を統...        堀口セイト   \n",
       "4              PythonによるDomain Adaptation Learnerの実装   Shingo Uto   \n",
       "\n",
       "                                                 リンク  いいね  \n",
       "0   https://zenn.dev/dlbsabu/articles/5300da50921070   85  \n",
       "1  https://zenn.dev/yanagikk/articles/a32a575a9163e2   57  \n",
       "2   https://zenn.dev/gamella/articles/eaf7fe5a96bdf0   56  \n",
       "3     https://zenn.dev/seito/articles/8f5ce6bee847c2   32  \n",
       "4  https://zenn.dev/s1ok69oo/articles/a319078f8c6af1   21  "
      ]
     },
     "execution_count": 42,
     "metadata": {},
     "output_type": "execute_result"
    }
   ],
   "source": [
    "# トピックを指定して、記事の情報を取得する\n",
    "df = get_zenn_article_df_by_topic(max_page=3, topic=\"データサイエンス\")\n",
    "df.head()"
   ]
  },
  {
   "cell_type": "code",
   "execution_count": 46,
   "metadata": {},
   "outputs": [
    {
     "name": "stdout",
     "output_type": "stream",
     "text": [
      "success: https://zenn.dev/topics/python?page=1\n",
      "success: https://zenn.dev/topics/python?page=2\n",
      "success: https://zenn.dev/topics/python?page=3\n",
      "success: https://zenn.dev/topics/python?page=4\n",
      "success: https://zenn.dev/topics/python?page=5\n",
      "success: https://zenn.dev/topics/python?page=6\n",
      "success: https://zenn.dev/topics/python?page=7\n",
      "success: https://zenn.dev/topics/python?page=8\n",
      "success: https://zenn.dev/topics/python?page=9\n",
      "success: https://zenn.dev/topics/python?page=10\n"
     ]
    }
   ],
   "source": [
    "df = get_zenn_article_df_by_topic(max_page=10, topic=\"python\")"
   ]
  },
  {
   "cell_type": "code",
   "execution_count": 47,
   "metadata": {},
   "outputs": [
    {
     "data": {
      "text/html": [
       "<style type=\"text/css\">\n",
       "</style>\n",
       "<table id=\"T_47aec_\">\n",
       "  <thead>\n",
       "    <tr>\n",
       "      <th class=\"blank level0\" >&nbsp;</th>\n",
       "      <th class=\"col_heading level0 col0\" >タイトル</th>\n",
       "      <th class=\"col_heading level0 col1\" >著者</th>\n",
       "      <th class=\"col_heading level0 col2\" >リンク</th>\n",
       "      <th class=\"col_heading level0 col3\" >いいね</th>\n",
       "    </tr>\n",
       "  </thead>\n",
       "  <tbody>\n",
       "    <tr>\n",
       "      <th id=\"T_47aec_level0_row0\" class=\"row_heading level0 row0\" >11</th>\n",
       "      <td id=\"T_47aec_row0_col0\" class=\"data row0 col0\" >君には今から3時間で機械学習Webアプリを作ってもらうよ</td>\n",
       "      <td id=\"T_47aec_row0_col1\" class=\"data row0 col1\" >alivelimb</td>\n",
       "      <td id=\"T_47aec_row0_col2\" class=\"data row0 col2\" ><a href=\"https://zenn.dev/alivelimb/articles/20220528-streamlit-ml-app\">https://zenn.dev/alivelimb/articles/20220528-streamlit-ml-app</a></td>\n",
       "      <td id=\"T_47aec_row0_col3\" class=\"data row0 col3\" >427</td>\n",
       "    </tr>\n",
       "    <tr>\n",
       "      <th id=\"T_47aec_level0_row1\" class=\"row_heading level0 row1\" >39</th>\n",
       "      <td id=\"T_47aec_row1_col0\" class=\"data row1 col0\" >話題のStable Diffusionがオープンソース化されたのでローカルで動かしてみる</td>\n",
       "      <td id=\"T_47aec_row1_col1\" class=\"data row1 col1\" >koyoarai_</td>\n",
       "      <td id=\"T_47aec_row1_col2\" class=\"data row1 col2\" ><a href=\"https://zenn.dev/koyoarai_/articles/02f3ed864c6127bb2049\">https://zenn.dev/koyoarai_/articles/02f3ed864c6127bb2049</a></td>\n",
       "      <td id=\"T_47aec_row1_col3\" class=\"data row1 col3\" >339</td>\n",
       "    </tr>\n",
       "    <tr>\n",
       "      <th id=\"T_47aec_level0_row2\" class=\"row_heading level0 row2\" >12</th>\n",
       "      <td id=\"T_47aec_row2_col0\" class=\"data row2 col0\" >Python互換の静的型付け言語「Erg」</td>\n",
       "      <td id=\"T_47aec_row2_col1\" class=\"data row2 col1\" >shiba</td>\n",
       "      <td id=\"T_47aec_row2_col2\" class=\"data row2 col2\" ><a href=\"https://zenn.dev/mtshiba/articles/a38c9fcd9646d4\">https://zenn.dev/mtshiba/articles/a38c9fcd9646d4</a></td>\n",
       "      <td id=\"T_47aec_row2_col3\" class=\"data row2 col3\" >339</td>\n",
       "    </tr>\n",
       "    <tr>\n",
       "      <th id=\"T_47aec_level0_row3\" class=\"row_heading level0 row3\" >17</th>\n",
       "      <td id=\"T_47aec_row3_col0\" class=\"data row3 col0\" >【必見】プログラマーが学習・開発で絶対に登録するべき15のYouTubeチャンネル</td>\n",
       "      <td id=\"T_47aec_row3_col1\" class=\"data row3 col1\" >Shota Nukumizu</td>\n",
       "      <td id=\"T_47aec_row3_col2\" class=\"data row3 col2\" ><a href=\"https://zenn.dev/nameless_sn/articles/recommended_youtube\">https://zenn.dev/nameless_sn/articles/recommended_youtube</a></td>\n",
       "      <td id=\"T_47aec_row3_col3\" class=\"data row3 col3\" >247</td>\n",
       "    </tr>\n",
       "    <tr>\n",
       "      <th id=\"T_47aec_level0_row4\" class=\"row_heading level0 row4\" >32</th>\n",
       "      <td id=\"T_47aec_row4_col0\" class=\"data row4 col0\" >Pythonでの開発・CI/CDの私的ベストプラクティス2022</td>\n",
       "      <td id=\"T_47aec_row4_col1\" class=\"data row4 col1\" >dajiaji</td>\n",
       "      <td id=\"T_47aec_row4_col2\" class=\"data row4 col2\" ><a href=\"https://zenn.dev/dajiaji/articles/e29005502a9e78\">https://zenn.dev/dajiaji/articles/e29005502a9e78</a></td>\n",
       "      <td id=\"T_47aec_row4_col3\" class=\"data row4 col3\" >171</td>\n",
       "    </tr>\n",
       "    <tr>\n",
       "      <th id=\"T_47aec_level0_row5\" class=\"row_heading level0 row5\" >44</th>\n",
       "      <td id=\"T_47aec_row5_col0\" class=\"data row5 col0\" >中級者へのModern Python</td>\n",
       "      <td id=\"T_47aec_row5_col1\" class=\"data row5 col1\" >ganyariya</td>\n",
       "      <td id=\"T_47aec_row5_col2\" class=\"data row5 col2\" ><a href=\"https://zenn.dev/ganariya/articles/intermediate-python\">https://zenn.dev/ganariya/articles/intermediate-python</a></td>\n",
       "      <td id=\"T_47aec_row5_col3\" class=\"data row5 col3\" >170</td>\n",
       "    </tr>\n",
       "    <tr>\n",
       "      <th id=\"T_47aec_level0_row6\" class=\"row_heading level0 row6\" >5</th>\n",
       "      <td id=\"T_47aec_row6_col0\" class=\"data row6 col0\" >2021年Python開発リンター導入のベストプラクティス</td>\n",
       "      <td id=\"T_47aec_row6_col1\" class=\"data row6 col1\" >Yusuke</td>\n",
       "      <td id=\"T_47aec_row6_col2\" class=\"data row6 col2\" ><a href=\"https://zenn.dev/yhay81/articles/yhay81-202102-pythonlint\">https://zenn.dev/yhay81/articles/yhay81-202102-pythonlint</a></td>\n",
       "      <td id=\"T_47aec_row6_col3\" class=\"data row6 col3\" >145</td>\n",
       "    </tr>\n",
       "    <tr>\n",
       "      <th id=\"T_47aec_level0_row7\" class=\"row_heading level0 row7\" >14</th>\n",
       "      <td id=\"T_47aec_row7_col0\" class=\"data row7 col0\" >データ収集から機械学習まで全て行って競馬の予測をしてみた</td>\n",
       "      <td id=\"T_47aec_row7_col1\" class=\"data row7 col1\" >kami</td>\n",
       "      <td id=\"T_47aec_row7_col2\" class=\"data row7 col2\" ><a href=\"https://zenn.dev/kami/articles/66e400c8a43cd08a5d7f\">https://zenn.dev/kami/articles/66e400c8a43cd08a5d7f</a></td>\n",
       "      <td id=\"T_47aec_row7_col3\" class=\"data row7 col3\" >142</td>\n",
       "    </tr>\n",
       "    <tr>\n",
       "      <th id=\"T_47aec_level0_row8\" class=\"row_heading level0 row8\" >30</th>\n",
       "      <td id=\"T_47aec_row8_col0\" class=\"data row8 col0\" >Pythonで自分だけのクソライブラリを作る方法</td>\n",
       "      <td id=\"T_47aec_row8_col1\" class=\"data row8 col1\" >karaage0703</td>\n",
       "      <td id=\"T_47aec_row8_col2\" class=\"data row8 col2\" ><a href=\"https://zenn.dev/karaage0703/articles/db8c663640c68b\">https://zenn.dev/karaage0703/articles/db8c663640c68b</a></td>\n",
       "      <td id=\"T_47aec_row8_col3\" class=\"data row8 col3\" >122</td>\n",
       "    </tr>\n",
       "    <tr>\n",
       "      <th id=\"T_47aec_level0_row9\" class=\"row_heading level0 row9\" >3</th>\n",
       "      <td id=\"T_47aec_row9_col0\" class=\"data row9 col0\" >私が考えるLambda開発環境のベストプラクティス</td>\n",
       "      <td id=\"T_47aec_row9_col1\" class=\"data row9 col1\" >Dai@FastLabel</td>\n",
       "      <td id=\"T_47aec_row9_col2\" class=\"data row9 col2\" ><a href=\"https://zenn.dev/faycute/articles/9024115c4241b8\">https://zenn.dev/faycute/articles/9024115c4241b8</a></td>\n",
       "      <td id=\"T_47aec_row9_col3\" class=\"data row9 col3\" >122</td>\n",
       "    </tr>\n",
       "  </tbody>\n",
       "</table>\n"
      ],
      "text/plain": [
       "<pandas.io.formats.style.Styler at 0x11e454160>"
      ]
     },
     "execution_count": 47,
     "metadata": {},
     "output_type": "execute_result"
    }
   ],
   "source": [
    "# いいねの多い順にソートする\n",
    "df.sort_values('いいね', ascending=False).head(10).style.format({'リンク': lambda x: f'<a href=\"{x}\">{x}</a>'})"
   ]
  },
  {
   "cell_type": "markdown",
   "metadata": {},
   "source": [
    "## ここまで頑張れた人はすごい！！"
   ]
  },
  {
   "cell_type": "markdown",
   "metadata": {},
   "source": [
    "さらに頑張る人へのおすすめ教材\n",
    "\n",
    "- [Youtube-【Webスクレイピング超入門】2時間で基礎を完全マスター！PythonによるWebスクレイピング入門 連結版](https://www.youtube.com/watch?v=VRFfAeW30qE)\n",
    "\n",
    "↑こちらの動画は、スクレイピングの基礎を学ぶのに最適な動画です。色々省略した部分もあるので是非みてほしい\n",
    "\n",
    "- [図解！PythonでSeleniumを使ったスクレイピングを徹底解説！(インストール・使い方・Chrome)](https://ai-inter1.com/python-selenium/)\n",
    "  \n",
    "↑別のライブラリを使ったスクレイピング(クローリング)の方法を学べる\n",
    "\n",
    "- [HTMLとCSSの基本をサルでもわかるようにまとめた【入門・初心者向け】](https://www.ituore.com/entry/html-css-basic)\n",
    "\n",
    "↑そもそもHTMLとCSSの基本を学びたい人はこちら"
   ]
  },
  {
   "cell_type": "markdown",
   "metadata": {},
   "source": []
  }
 ],
 "metadata": {
  "kernelspec": {
   "display_name": "Python 3.9.7 64-bit ('3.9.7')",
   "language": "python",
   "name": "python3"
  },
  "language_info": {
   "codemirror_mode": {
    "name": "ipython",
    "version": 3
   },
   "file_extension": ".py",
   "mimetype": "text/x-python",
   "name": "python",
   "nbconvert_exporter": "python",
   "pygments_lexer": "ipython3",
   "version": "3.9.7"
  },
  "orig_nbformat": 4,
  "vscode": {
   "interpreter": {
    "hash": "b7a6894500b001aad9f9c194c2782f3fcdcd80029cdff3432fe8451667d6d1e2"
   }
  }
 },
 "nbformat": 4,
 "nbformat_minor": 2
}
